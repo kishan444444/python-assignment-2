{
 "cells": [
  {
   "cell_type": "code",
   "execution_count": null,
   "id": "7757cc3f-b185-4c00-b328-399d0450636a",
   "metadata": {},
   "outputs": [],
   "source": [
    "#1.What are the two values of the Boolean data type? How do you write them?\n",
    "\"\"\"\n",
    "A Boolean data type has one of two possible values (usually denoted true and false)\n",
    "representation\n",
    "1+3==2+2 =true\n",
    "1+3==2+1 =false\n",
    "\n",
    "\"\"\""
   ]
  },
  {
   "cell_type": "code",
   "execution_count": 3,
   "id": "8c9b8da1-5c55-4812-bfdf-16164434c64f",
   "metadata": {
    "tags": []
   },
   "outputs": [
    {
     "data": {
      "text/plain": [
       "True"
      ]
     },
     "execution_count": 3,
     "metadata": {},
     "output_type": "execute_result"
    }
   ],
   "source": [
    "#.2 What are the three different types of Boolean operators?\n",
    "\"\"\"\n",
    "The three different types of boolean operator are-\n",
    "1 AND (&)\n",
    "2 OR(|)\n",
    "3 NOT(~)\n",
    "\"\"\"\n",
    "\n"
   ]
  },
  {
   "cell_type": "code",
   "execution_count": null,
   "id": "cbd01e9c-23b8-4326-a4c4-03f3f2ad3f67",
   "metadata": {},
   "outputs": [],
   "source": [
    "#3. Make a list of each Boolean operator's truth tables (i.e. every possible combination of Boolean values for the operator and what it evaluate ).\n",
    "\"\"\"\n",
    "If: (A or B) and C\n",
    "\n",
    "Then: D\n",
    "A  B    C  A OR B  D\n",
    "1  1    1  1       1\n",
    "1  1    0  1       0\n",
    "1  0    1  1       1\n",
    "1  0    0  1       0\n",
    "0  1    1  1       1\n",
    "0  1    0  1       0\n",
    "0  0    1  0       0\n",
    "0  0    0  0       0\n",
    "\"\"\""
   ]
  },
  {
   "cell_type": "code",
   "execution_count": 6,
   "id": "bb75d8f9-6d64-41a5-9b51-52644cd8f3b9",
   "metadata": {
    "tags": []
   },
   "outputs": [
    {
     "data": {
      "text/plain": [
       "True"
      ]
     },
     "execution_count": 6,
     "metadata": {},
     "output_type": "execute_result"
    }
   ],
   "source": [
    "#4 What are the values of the following expressions?\n",
    "\"\"\"\n",
    "solution\n",
    "(5 > 4) and (3 == 5) =false\n",
    "\n",
    "not (5 > 4)=false\n",
    "\n",
    "(5 > 4) or (3 == 5)=true\n",
    "\n",
    "not ((5 > 4) or (3 == 5))=false\n",
    "\n",
    "(True and True) and (True == False)=false\n",
    "\n",
    "(not False) or (not True)=true\n",
    "\"\"\"\n"
   ]
  },
  {
   "cell_type": "code",
   "execution_count": null,
   "id": "03d1462b-cb9e-415c-a9bf-641f491c84b8",
   "metadata": {},
   "outputs": [],
   "source": [
    "#5 What are the six comparison operators?\n",
    "\"\"\"\n",
    "The six comparison operators are \n",
    "1) == or equal to, \n",
    "2) != or not equal to, \n",
    "3) > or greater than, \n",
    "4) >= or greater than or equal to, \n",
    "5) < or less than, and \n",
    "6) <= or less than or equal to,\n",
    "\"\"\""
   ]
  },
  {
   "cell_type": "code",
   "execution_count": null,
   "id": "f83edadd-42c3-4276-8a04-b9e169992520",
   "metadata": {},
   "outputs": [],
   "source": [
    "#6 How do you tell the difference between the equal to and assignment operators?Describe a condition and when you would use one.\n",
    "\"\"\"\n",
    "The '=' is the so-called assignment operator and is used to assign the result of the expression on the right side of the operator to the variable on the left side. \n",
    "The '==' is the so-called equality comparison operator and is used to check whether the two expressions on both sides are equal or not.\n",
    "\"\"\""
   ]
  },
  {
   "cell_type": "code",
   "execution_count": null,
   "id": "66d03199-2561-4e78-a20c-4ee74b652d0a",
   "metadata": {},
   "outputs": [],
   "source": [
    "#7 . Identify the three blocks in this code:\n",
    "\"\"\"\n",
    "The three blocks are everything inside the if statement and the lines print('bacon') and print('ham').\n",
    "\n",
    "print('eggs')\n",
    "if spam > 5:\n",
    "    print('bacon')\n",
    "else:\n",
    "    print('ham')\n",
    "print('spam')\n",
    "\"\"\""
   ]
  },
  {
   "cell_type": "code",
   "execution_count": 14,
   "id": "54f414b7-0adb-45d2-b705-1352806f3615",
   "metadata": {
    "tags": []
   },
   "outputs": [
    {
     "name": "stdout",
     "output_type": "stream",
     "text": [
      "greeting\n"
     ]
    }
   ],
   "source": [
    "#8. Write code that prints Hello if 1 is stored in spam, prints Howdy if 2 is stored in spam, and prints Greetings! if anything else is stored in spam.\n",
    "spam=3\n",
    "if spam ==1:\n",
    "    print('hello')\n",
    "elif spam==2:\n",
    "    print('howdy')\n",
    "else:\n",
    "    print(\"greeting\")\n",
    "    "
   ]
  },
  {
   "cell_type": "code",
   "execution_count": null,
   "id": "e340738a-b625-4bd4-bcac-fd73ead2dc83",
   "metadata": {},
   "outputs": [],
   "source": [
    "#9.If your programme is stuck in an endless loop, what keys you’ll press?\n",
    "\"\"\"\n",
    "You can stop an infinite loop with CTRL + C \n",
    "\"\"\""
   ]
  },
  {
   "cell_type": "code",
   "execution_count": null,
   "id": "dd34a796-2801-4679-8a06-47567dbcc311",
   "metadata": {},
   "outputs": [],
   "source": [
    "#10 How can you tell the difference between break and continue?\n",
    "\"\"\"\n",
    "Break statement stops the entire process of the loop. \n",
    "Continue statement only stops the current iteration of the loop. \n",
    "Break also terminates the remaining iterations. \n",
    "Continue doesn't terminate the next iterations; \n",
    "it resumes with the successive iterations.\n",
    "\"\"\""
   ]
  },
  {
   "cell_type": "code",
   "execution_count": null,
   "id": "d5a818c4-b0fb-4fe3-8234-07b2b9b8904a",
   "metadata": {},
   "outputs": [],
   "source": [
    "#11 In a for loop, what is the difference between range(10), range(0, 10), and range(0, 10, 1)?\n",
    "\"\"\" range(10)= (stop) This means it will go upto 10 an by default start with 0.\n",
    "    range(0,10)=(start,stop) it start with 0 and stop at 10.\n",
    "    range(0,10,1)=(start,stop,step)\n",
    "\"\"\""
   ]
  },
  {
   "cell_type": "code",
   "execution_count": 4,
   "id": "ec333204-b4a4-4d66-8081-f5af35547b62",
   "metadata": {},
   "outputs": [
    {
     "name": "stdout",
     "output_type": "stream",
     "text": [
      "1\n",
      "2\n",
      "3\n",
      "4\n",
      "5\n",
      "6\n",
      "7\n",
      "8\n",
      "9\n",
      "10\n",
      "1\n",
      "2\n",
      "3\n",
      "4\n",
      "5\n",
      "6\n",
      "7\n",
      "8\n",
      "9\n",
      "10\n"
     ]
    }
   ],
   "source": [
    "#12 Write a short program that prints the numbers 1 to 10 using a for loop. Then write an equivalent program that prints the numbers 1 to 10 using a while loop.\n",
    "\"\"\"\n",
    "printing (1-10) using \"for\" loop\n",
    "\"\"\"\n",
    "i=10\n",
    "for j in range (i):\n",
    "    k=j+1\n",
    "    print(k)\n",
    "\"\"\"\n",
    "printing (1-10) using \"while\" loop\n",
    "\"\"\"\n",
    "i=1\n",
    "while i <= 10:\n",
    "    print(i)\n",
    "    i+=1\n",
    "\n",
    "\n"
   ]
  },
  {
   "cell_type": "code",
   "execution_count": null,
   "id": "f0565eeb-c077-49b9-a405-e533644278cd",
   "metadata": {},
   "outputs": [],
   "source": [
    "#13. If you had a function named bacon() inside a module named spam, how would you call it after importing spam?\n",
    "\n",
    "\"\"\"\n",
    "This function can be called with spam.bacon().\n",
    "\"\"\"\n"
   ]
  }
 ],
 "metadata": {
  "kernelspec": {
   "display_name": "Python 3 (ipykernel)",
   "language": "python",
   "name": "python3"
  },
  "language_info": {
   "codemirror_mode": {
    "name": "ipython",
    "version": 3
   },
   "file_extension": ".py",
   "mimetype": "text/x-python",
   "name": "python",
   "nbconvert_exporter": "python",
   "pygments_lexer": "ipython3",
   "version": "3.11.5"
  }
 },
 "nbformat": 4,
 "nbformat_minor": 5
}
